{
 "cells": [
  {
   "cell_type": "code",
   "execution_count": 1,
   "metadata": {},
   "outputs": [],
   "source": [
    "%load_ext autoreload\n",
    "%autoreload 2"
   ]
  },
  {
   "cell_type": "code",
   "execution_count": 2,
   "metadata": {},
   "outputs": [],
   "source": [
    "import sys\n",
    "\n",
    "sys.path.append('..')"
   ]
  },
  {
   "cell_type": "code",
   "execution_count": 18,
   "metadata": {},
   "outputs": [],
   "source": [
    "import tensorflow as tf\n",
    "import matplotlib.pyplot as plt\n",
    "\n",
    "from src.losses import ContrastiveLoss, ContrastiveLossOnPatches, contrastive_loss_on_patches"
   ]
  },
  {
   "cell_type": "code",
   "execution_count": 54,
   "metadata": {},
   "outputs": [],
   "source": [
    "y_pred = tf.random.uniform([1, 512, 704, 8])\n",
    "y_true = tf.random.uniform([1, 512, 704, 1], 0, 300, dtype=tf.int32)"
   ]
  },
  {
   "cell_type": "code",
   "execution_count": 8,
   "metadata": {},
   "outputs": [
    {
     "data": {
      "text/plain": [
       "<tf.Tensor: shape=(), dtype=float32, numpy=8.526549>"
      ]
     },
     "execution_count": 8,
     "metadata": {},
     "output_type": "execute_result"
    }
   ],
   "source": [
    "loss = ContrastiveLoss()(y_true, y_pred)\n",
    "loss"
   ]
  },
  {
   "cell_type": "code",
   "execution_count": 69,
   "metadata": {},
   "outputs": [
    {
     "data": {
      "text/plain": [
       "8.953507"
      ]
     },
     "execution_count": 69,
     "metadata": {},
     "output_type": "execute_result"
    }
   ],
   "source": [
    "loss = ContrastiveLossOnPatches(window_size=85)(y_true, y_pred)\n",
    "loss.numpy()"
   ]
  },
  {
   "cell_type": "code",
   "execution_count": 59,
   "metadata": {},
   "outputs": [],
   "source": [
    "def flatten(x):\n",
    "    return tf.reshape(x, [-1])\n",
    "\n",
    "\n",
    "def _generate_random_patch_mask(shape, w_size):\n",
    "    b, h, w = shape\n",
    "\n",
    "    x_coord = tf.random.uniform((b, 1), 0, w - w_size, dtype=tf.int64) + tf.range(w_size, dtype=tf.int64)[None, :]\n",
    "    y_coord = tf.random.uniform((b, 1), 0, h - w_size, dtype=tf.int64) + tf.range(w_size, dtype=tf.int64)[None, :]\n",
    "\n",
    "    def build_indices(x_coord, y_coord):\n",
    "        xx, yy = tf.meshgrid(x_coord, y_coord)\n",
    "        indices = tf.concat([flatten(yy)[:, None], flatten(xx)[:, None]], axis=-1)\n",
    "\n",
    "        return indices\n",
    "\n",
    "    def compute_mask(inputs):\n",
    "        x_coord, y_coord = inputs\n",
    "\n",
    "        indices = build_indices(x_coord, y_coord)\n",
    "        mask = tf.SparseTensor(indices, \n",
    "                               tf.ones(indices.shape[0], dtype=tf.bool), \n",
    "                               [h, w])\n",
    "\n",
    "        return tf.sparse.to_dense(mask)\n",
    "\n",
    "    mask = tf.map_fn(\n",
    "        compute_mask, \n",
    "        (x_coord, y_coord), \n",
    "        fn_output_signature=tf.bool\n",
    "    )\n",
    "\n",
    "    return mask"
   ]
  },
  {
   "cell_type": "code",
   "execution_count": 64,
   "metadata": {},
   "outputs": [
    {
     "data": {
      "text/plain": [
       "TensorShape([8, 544, 704])"
      ]
     },
     "execution_count": 64,
     "metadata": {},
     "output_type": "execute_result"
    }
   ],
   "source": [
    "mask = _generate_random_patch_mask([8, 544, 704], 85)\n",
    "mask.shape"
   ]
  },
  {
   "cell_type": "code",
   "execution_count": 74,
   "metadata": {},
   "outputs": [
    {
     "data": {
      "text/plain": [
       "<matplotlib.image.AxesImage at 0x16d9a1610>"
      ]
     },
     "execution_count": 74,
     "metadata": {},
     "output_type": "execute_result"
    },
    {
     "data": {
      "image/png": "[encoded data removed]",
      "text/plain": [
       "<Figure size 432x288 with 1 Axes>"
      ]
     },
     "metadata": {
      "needs_background": "light"
     },
     "output_type": "display_data"
    }
   ],
   "source": [
    "plt.imshow(mask.numpy()[7])"
   ]
  },
  {
   "cell_type": "code",
   "execution_count": 76,
   "metadata": {},
   "outputs": [
    {
     "data": {
      "text/plain": [
       "TensorShape([7225, 1])"
      ]
     },
     "execution_count": 76,
     "metadata": {},
     "output_type": "execute_result"
    }
   ],
   "source": [
    "tf.random.uniform([544, 704, 1])[mask[0]].shape"
   ]
  },
  {
   "cell_type": "code",
   "execution_count": null,
   "metadata": {},
   "outputs": [],
   "source": []
  }
 ],
 "metadata": {
  "interpreter": {
   "hash": "f6922112a9ae36c99018ec8e10ad58669f67660f44a16a81631cf9f687910038"
  },
  "kernelspec": {
   "display_name": "Python 3.9.7 64-bit ('tf2.5': conda)",
   "language": "python",
   "name": "python3"
  },
  "language_info": {
   "codemirror_mode": {
    "name": "ipython",
    "version": 3
   },
   "file_extension": ".py",
   "mimetype": "text/x-python",
   "name": "python",
   "nbconvert_exporter": "python",
   "pygments_lexer": "ipython3",
   "version": "3.9.7"
  },
  "orig_nbformat": 4
 },
 "nbformat": 4,
 "nbformat_minor": 2
}
