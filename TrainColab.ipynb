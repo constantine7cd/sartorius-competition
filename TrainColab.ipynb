{
 "cells": [
  {
   "cell_type": "code",
   "execution_count": null,
   "metadata": {},
   "outputs": [],
   "source": [
    "!git clone https://github.com/constantine7cd/sartorius-competition.git"
   ]
  },
  {
   "cell_type": "code",
   "execution_count": 43,
   "metadata": {},
   "outputs": [],
   "source": [
    "import pprint\n",
    "\n",
    "from pathlib import Path\n",
    "\n",
    "from tensorflow.keras.optimizers import Adam\n",
    "\n",
    "from src.dataset import SartoriusDataset\n",
    "from src.models import UnetEffNetV2\n",
    "from src.losses import ContrastiveLoss\n",
    "from src.augmentations import RandomCrop, RandomLeftRightFlip\n",
    "from src.train_model import train_model"
   ]
  },
  {
   "cell_type": "code",
   "execution_count": 44,
   "metadata": {},
   "outputs": [],
   "source": [
    "def _pretty_config(cfg):\n",
    "    pretty_cfg = dict()\n",
    "\n",
    "    def update_value(v):\n",
    "        if type(v) is dict:\n",
    "            return _pretty_config(v)\n",
    "        elif hasattr(v, 'name'):\n",
    "            return v.name\n",
    "        elif hasattr(v, '__name__'):\n",
    "            return v.__name__\n",
    "        return v\n",
    "\n",
    "    for key, value in cfg.items():\n",
    "        if type(value) in [tuple, list]:\n",
    "            v_new = [update_value(v) for v in value]\n",
    "        else:\n",
    "            v_new = update_value(value)\n",
    "\n",
    "        pretty_cfg[key] = v_new\n",
    "\n",
    "    return pretty_cfg\n",
    "\n",
    "\n",
    "def pprint_config(cfg):\n",
    "    pprint.pprint(_pretty_config(cfg), sort_dicts=False)"
   ]
  },
  {
   "cell_type": "code",
   "execution_count": 45,
   "metadata": {},
   "outputs": [
    {
     "name": "stdout",
     "output_type": "stream",
     "text": [
      "{'experiment_name': 'contrastive_loss_effnet_v2_m_batch1_emb_size_8',\n",
      " 'experiment_dir': 'experiments/contrastive',\n",
      " 'model': 'UnetEffNetV2',\n",
      " 'model_params': {'input_shape': [512, 640, 1], 'num_filters': 8},\n",
      " 'ds_train': 'SartoriusDataset',\n",
      " 'ds_train_params': {'root_dir': 'train',\n",
      "                     'batch_size': 1,\n",
      "                     'augmentations': ['RandomCrop', 'RandomLeftRightFlip']},\n",
      " 'ds_val': 'SartoriusDataset',\n",
      " 'ds_val_params': {'root_dir': 'val',\n",
      "                   'batch_size': 1,\n",
      "                   'augmentations': ['RandomCrop'],\n",
      "                   'shuffle': False},\n",
      " 'loss': 'ContrastiveLoss',\n",
      " 'metrics': [],\n",
      " 'optimizer': 'Adam',\n",
      " 'optimizer_params': {'learning_rate': 0.0001},\n",
      " 'epochs': 50}\n"
     ]
    }
   ],
   "source": [
    "experiment_name = 'contrastive_loss_effnet_v2_m_batch1_emb_size_8'\n",
    "experiment_dir = 'experiments/contrastive'\n",
    "\n",
    "data_dir = Path('sartorius-cell-instance-segmentation')\n",
    "\n",
    "augmentations = [\n",
    "    RandomCrop([512, 640]),\n",
    "    RandomLeftRightFlip(0.25)\n",
    "]\n",
    "\n",
    "augmentations_val = [\n",
    "    RandomCrop([512, 640])\n",
    "]\n",
    "\n",
    "config = {\n",
    "    'experiment_name': experiment_name,\n",
    "    'experiment_dir': experiment_dir, \n",
    "    'model': UnetEffNetV2, \n",
    "    'model_params': {\n",
    "        'input_shape': (512, 640, 1), \n",
    "        'num_filters': 8, \n",
    "    }, \n",
    "    'ds_train': SartoriusDataset, \n",
    "    'ds_train_params': {\n",
    "        'root_dir': data_dir/'train', \n",
    "        'batch_size': 1, \n",
    "        'augmentations': augmentations\n",
    "    },\n",
    "    'ds_val': SartoriusDataset, \n",
    "    'ds_val_params': {\n",
    "        'root_dir': data_dir/'val', \n",
    "        'batch_size': 1, \n",
    "        'augmentations': augmentations_val, \n",
    "        'shuffle': False\n",
    "    },\n",
    "    'loss': ContrastiveLoss(), \n",
    "    'metrics': [], \n",
    "    'optimizer': Adam, \n",
    "    'optimizer_params': {\n",
    "        'learning_rate': 1e-4,\n",
    "    }, \n",
    "    'epochs': 50\n",
    "}\n",
    "\n",
    "pprint_config(config)"
   ]
  },
  {
   "cell_type": "code",
   "execution_count": 46,
   "metadata": {},
   "outputs": [
    {
     "name": "stdout",
     "output_type": "stream",
     "text": [
      ">>>> Load pretrained from: /Users/constantine/.keras/models/efficientnetv2/efficientnetv2-m-imagenet.h5\n",
      "WARNING:tensorflow:Skipping loading of weights for layer stem_conv due to mismatch in shape ((3, 3, 1, 24) vs (24, 3, 3, 3)).\n"
     ]
    },
    {
     "name": "stderr",
     "output_type": "stream",
     "text": [
      "2021-12-02 04:53:10.495666: I tensorflow/core/profiler/lib/profiler_session.cc:126] Profiler session initializing.\n",
      "2021-12-02 04:53:10.495698: I tensorflow/core/profiler/lib/profiler_session.cc:141] Profiler session started.\n",
      "2021-12-02 04:53:10.505591: I tensorflow/core/profiler/lib/profiler_session.cc:159] Profiler session tear down.\n",
      "/Users/constantine/miniforge3/envs/tf2.5/lib/python3.9/site-packages/tensorflow/python/keras/utils/generic_utils.py:494: CustomMaskWarning: Custom mask layers require a config and must override get_config. When loading, the custom mask layer must be passed to the custom_objects argument.\n",
      "  warnings.warn('Custom mask layers require a config and must override '\n"
     ]
    },
    {
     "name": "stdout",
     "output_type": "stream",
     "text": [
      "Epoch 1/50\n"
     ]
    },
    {
     "name": "stderr",
     "output_type": "stream",
     "text": [
      "2021-12-02 04:53:17.427689: I tensorflow/core/grappler/optimizers/custom_graph_optimizer_registry.cc:112] Plugin optimizer for device_type GPU is enabled.\n"
     ]
    },
    {
     "name": "stdout",
     "output_type": "stream",
     "text": [
      "  1/602 [..............................] - ETA: 5:03:00 - loss: 9.2347"
     ]
    },
    {
     "name": "stderr",
     "output_type": "stream",
     "text": [
      "2021-12-02 04:53:42.662847: I tensorflow/core/profiler/lib/profiler_session.cc:126] Profiler session initializing.\n",
      "2021-12-02 04:53:42.662876: I tensorflow/core/profiler/lib/profiler_session.cc:141] Profiler session started.\n"
     ]
    },
    {
     "name": "stdout",
     "output_type": "stream",
     "text": [
      "  2/602 [..............................] - ETA: 2:01:47 - loss: 9.1614"
     ]
    },
    {
     "name": "stderr",
     "output_type": "stream",
     "text": [
      "2021-12-02 04:53:54.397917: I tensorflow/core/profiler/lib/profiler_session.cc:66] Profiler session collecting data.\n",
      "2021-12-02 04:53:54.521675: I tensorflow/core/profiler/lib/profiler_session.cc:159] Profiler session tear down.\n",
      "2021-12-02 04:53:54.628487: I tensorflow/core/profiler/rpc/client/save_profile.cc:137] Creating directory: experiments/contrastive/logs/contrastive_loss_effnet_v2_m_batch1_emb_size_8/train/plugins/profile/2021_12_02_04_53_54\n",
      "2021-12-02 04:53:54.642601: I tensorflow/core/profiler/rpc/client/save_profile.cc:143] Dumped gzipped tool data for trace.json.gz to experiments/contrastive/logs/contrastive_loss_effnet_v2_m_batch1_emb_size_8/train/plugins/profile/2021_12_02_04_53_54/ConstantinesAir.trace.json.gz\n",
      "2021-12-02 04:53:54.817635: I tensorflow/core/profiler/rpc/client/save_profile.cc:137] Creating directory: experiments/contrastive/logs/contrastive_loss_effnet_v2_m_batch1_emb_size_8/train/plugins/profile/2021_12_02_04_53_54\n",
      "2021-12-02 04:53:54.818426: I tensorflow/core/profiler/rpc/client/save_profile.cc:143] Dumped gzipped tool data for memory_profile.json.gz to experiments/contrastive/logs/contrastive_loss_effnet_v2_m_batch1_emb_size_8/train/plugins/profile/2021_12_02_04_53_54/ConstantinesAir.memory_profile.json.gz\n",
      "2021-12-02 04:53:54.819113: I tensorflow/core/profiler/rpc/client/capture_profile.cc:251] Creating directory: experiments/contrastive/logs/contrastive_loss_effnet_v2_m_batch1_emb_size_8/train/plugins/profile/2021_12_02_04_53_54Dumped tool data for xplane.pb to experiments/contrastive/logs/contrastive_loss_effnet_v2_m_batch1_emb_size_8/train/plugins/profile/2021_12_02_04_53_54/ConstantinesAir.xplane.pb\n",
      "Dumped tool data for overview_page.pb to experiments/contrastive/logs/contrastive_loss_effnet_v2_m_batch1_emb_size_8/train/plugins/profile/2021_12_02_04_53_54/ConstantinesAir.overview_page.pb\n",
      "Dumped tool data for input_pipeline.pb to experiments/contrastive/logs/contrastive_loss_effnet_v2_m_batch1_emb_size_8/train/plugins/profile/2021_12_02_04_53_54/ConstantinesAir.input_pipeline.pb\n",
      "Dumped tool data for tensorflow_stats.pb to experiments/contrastive/logs/contrastive_loss_effnet_v2_m_batch1_emb_size_8/train/plugins/profile/2021_12_02_04_53_54/ConstantinesAir.tensorflow_stats.pb\n",
      "Dumped tool data for kernel_stats.pb to experiments/contrastive/logs/contrastive_loss_effnet_v2_m_batch1_emb_size_8/train/plugins/profile/2021_12_02_04_53_54/ConstantinesAir.kernel_stats.pb\n",
      "\n"
     ]
    },
    {
     "name": "stdout",
     "output_type": "stream",
     "text": [
      " 46/602 [=>............................] - ETA: 1:37:06 - loss: 8.6072"
     ]
    }
   ],
   "source": [
    "history = train_model(config)"
   ]
  },
  {
   "cell_type": "code",
   "execution_count": null,
   "metadata": {},
   "outputs": [],
   "source": []
  }
 ],
 "metadata": {
  "interpreter": {
   "hash": "f6922112a9ae36c99018ec8e10ad58669f67660f44a16a81631cf9f687910038"
  },
  "kernelspec": {
   "display_name": "Python 3.9.7 64-bit ('tf2.5': conda)",
   "language": "python",
   "name": "python3"
  },
  "language_info": {
   "codemirror_mode": {
    "name": "ipython",
    "version": 3
   },
   "file_extension": ".py",
   "mimetype": "text/x-python",
   "name": "python",
   "nbconvert_exporter": "python",
   "pygments_lexer": "ipython3",
   "version": "3.9.7"
  },
  "orig_nbformat": 4
 },
 "nbformat": 4,
 "nbformat_minor": 2
}
