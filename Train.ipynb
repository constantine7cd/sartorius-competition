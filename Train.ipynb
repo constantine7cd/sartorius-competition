{
 "cells": [
  {
   "cell_type": "code",
   "execution_count": 1,
   "metadata": {},
   "outputs": [],
   "source": [
    "%load_ext autoreload\n",
    "%autoreload 2"
   ]
  },
  {
   "cell_type": "code",
   "execution_count": 43,
   "metadata": {},
   "outputs": [],
   "source": [
    "import pprint\n",
    "\n",
    "from pathlib import Path\n",
    "\n",
    "from tensorflow.keras.optimizers import Adam\n",
    "\n",
    "from src.dataset import SartoriusDataset\n",
    "from src.models import UnetEffNetV2\n",
    "from src.losses import ContrastiveLoss\n",
    "from src.augmentations import RandomCrop, RandomLeftRightFlip\n",
    "from src.train_model import train_model"
   ]
  },
  {
   "cell_type": "code",
   "execution_count": 44,
   "metadata": {},
   "outputs": [],
   "source": [
    "def _pretty_config(cfg):\n",
    "    pretty_cfg = dict()\n",
    "\n",
    "    def update_value(v):\n",
    "        if type(v) is dict:\n",
    "            return _pretty_config(v)\n",
    "        elif hasattr(v, 'name'):\n",
    "            return v.name\n",
    "        elif hasattr(v, '__name__'):\n",
    "            return v.__name__\n",
    "        return v\n",
    "\n",
    "    for key, value in cfg.items():\n",
    "        if type(value) in [tuple, list]:\n",
    "            v_new = [update_value(v) for v in value]\n",
    "        else:\n",
    "            v_new = update_value(value)\n",
    "\n",
    "        pretty_cfg[key] = v_new\n",
    "\n",
    "    return pretty_cfg\n",
    "\n",
    "\n",
    "def pprint_config(cfg):\n",
    "    pprint.pprint(_pretty_config(cfg), sort_dicts=False)"
   ]
  },
  {
   "cell_type": "code",
   "execution_count": 45,
   "metadata": {},
   "outputs": [
    {
     "name": "stdout",
     "output_type": "stream",
     "text": [
      "{'experiment_name': 'contrastive_loss_effnet_v2_m_batch1_emb_size_8',\n",
      " 'experiment_dir': 'experiments/contrastive',\n",
      " 'model': 'UnetEffNetV2',\n",
      " 'model_params': {'input_shape': [512, 640, 1], 'num_filters': 8},\n",
      " 'ds_train': 'SartoriusDataset',\n",
      " 'ds_train_params': {'root_dir': 'train',\n",
      "                     'batch_size': 1,\n",
      "                     'augmentations': ['RandomCrop', 'RandomLeftRightFlip']},\n",
      " 'ds_val': 'SartoriusDataset',\n",
      " 'ds_val_params': {'root_dir': 'val',\n",
      "                   'batch_size': 1,\n",
      "                   'augmentations': ['RandomCrop'],\n",
      "                   'shuffle': False},\n",
      " 'loss': 'ContrastiveLoss',\n",
      " 'metrics': [],\n",
      " 'optimizer': 'Adam',\n",
      " 'optimizer_params': {'learning_rate': 0.0001},\n",
      " 'epochs': 50}\n"
     ]
    }
   ],
   "source": [
    "experiment_name = 'contrastive_loss_effnet_v2_m_batch1_emb_size_8'\n",
    "experiment_dir = 'experiments/contrastive'\n",
    "\n",
    "data_dir = Path('sartorius-cell-instance-segmentation')\n",
    "\n",
    "augmentations = [\n",
    "    RandomCrop([512, 640]),\n",
    "    RandomLeftRightFlip(0.25)\n",
    "]\n",
    "\n",
    "augmentations_val = [\n",
    "    RandomCrop([512, 640])\n",
    "]\n",
    "\n",
    "config = {\n",
    "    'experiment_name': experiment_name,\n",
    "    'experiment_dir': experiment_dir, \n",
    "    'model': UnetEffNetV2, \n",
    "    'model_params': {\n",
    "        'input_shape': (512, 640, 1), \n",
    "        'num_filters': 8, \n",
    "    }, \n",
    "    'ds_train': SartoriusDataset, \n",
    "    'ds_train_params': {\n",
    "        'root_dir': data_dir/'train', \n",
    "        'batch_size': 1, \n",
    "        'augmentations': augmentations\n",
    "    },\n",
    "    'ds_val': SartoriusDataset, \n",
    "    'ds_val_params': {\n",
    "        'root_dir': data_dir/'val', \n",
    "        'batch_size': 1, \n",
    "        'augmentations': augmentations_val, \n",
    "        'shuffle': False\n",
    "    },\n",
    "    'loss': ContrastiveLoss(), \n",
    "    'metrics': [], \n",
    "    'optimizer': Adam, \n",
    "    'optimizer_params': {\n",
    "        'learning_rate': 1e-4,\n",
    "    }, \n",
    "    'epochs': 50\n",
    "}\n",
    "\n",
    "pprint_config(config)"
   ]
  },
  {
   "cell_type": "code",
   "execution_count": 6,
   "metadata": {},
   "outputs": [
    {
     "name": "stdout",
     "output_type": "stream",
     "text": [
      ">>>> Load pretrained from: /Users/constantine/.keras/models/efficientnetv2/efficientnetv2-m-imagenet.h5\n",
      "WARNING:tensorflow:Skipping loading of weights for layer stem_conv due to mismatch in shape ((3, 3, 1, 24) vs (24, 3, 3, 3)).\n"
     ]
    },
    {
     "name": "stderr",
     "output_type": "stream",
     "text": [
      "2021-12-02 04:07:17.130571: I tensorflow/core/profiler/lib/profiler_session.cc:126] Profiler session initializing.\n",
      "2021-12-02 04:07:17.130585: I tensorflow/core/profiler/lib/profiler_session.cc:141] Profiler session started.\n",
      "2021-12-02 04:07:17.131379: I tensorflow/core/profiler/lib/profiler_session.cc:159] Profiler session tear down.\n",
      "/Users/constantine/miniforge3/envs/tf2.5/lib/python3.9/site-packages/tensorflow/python/keras/utils/generic_utils.py:494: CustomMaskWarning: Custom mask layers require a config and must override get_config. When loading, the custom mask layer must be passed to the custom_objects argument.\n",
      "  warnings.warn('Custom mask layers require a config and must override '\n",
      "2021-12-02 04:07:17.682737: I tensorflow/compiler/mlir/mlir_graph_optimization_pass.cc:176] None of the MLIR Optimization Passes are enabled (registered 2)\n",
      "2021-12-02 04:07:17.684696: W tensorflow/core/platform/profile_utils/cpu_utils.cc:128] Failed to get CPU frequency: 0 Hz\n"
     ]
    },
    {
     "name": "stdout",
     "output_type": "stream",
     "text": [
      "Epoch 1/50\n"
     ]
    },
    {
     "name": "stderr",
     "output_type": "stream",
     "text": [
      "2021-12-02 04:07:23.559243: I tensorflow/core/grappler/optimizers/custom_graph_optimizer_registry.cc:112] Plugin optimizer for device_type GPU is enabled.\n"
     ]
    },
    {
     "name": "stdout",
     "output_type": "stream",
     "text": [
      "  1/606 [..............................] - ETA: 4:19:25 - loss: 9.1877"
     ]
    },
    {
     "name": "stderr",
     "output_type": "stream",
     "text": [
      "2021-12-02 04:07:44.036662: I tensorflow/core/profiler/lib/profiler_session.cc:126] Profiler session initializing.\n",
      "2021-12-02 04:07:44.036699: I tensorflow/core/profiler/lib/profiler_session.cc:141] Profiler session started.\n"
     ]
    },
    {
     "name": "stdout",
     "output_type": "stream",
     "text": [
      "  2/606 [..............................] - ETA: 43:43 - loss: 9.1195  "
     ]
    },
    {
     "name": "stderr",
     "output_type": "stream",
     "text": [
      "2021-12-02 04:07:47.855851: I tensorflow/core/profiler/lib/profiler_session.cc:66] Profiler session collecting data.\n",
      "2021-12-02 04:07:47.875539: I tensorflow/core/profiler/lib/profiler_session.cc:159] Profiler session tear down.\n",
      "2021-12-02 04:07:47.968775: I tensorflow/core/profiler/rpc/client/save_profile.cc:137] Creating directory: experiments/contrastive/logs/contrastive_loss_effnet_v2_m_batch1_emb_size_8/train/plugins/profile/2021_12_02_04_07_47\n",
      "2021-12-02 04:07:47.974277: I tensorflow/core/profiler/rpc/client/save_profile.cc:143] Dumped gzipped tool data for trace.json.gz to experiments/contrastive/logs/contrastive_loss_effnet_v2_m_batch1_emb_size_8/train/plugins/profile/2021_12_02_04_07_47/ConstantinesAir.trace.json.gz\n",
      "2021-12-02 04:07:47.991862: I tensorflow/core/profiler/rpc/client/save_profile.cc:137] Creating directory: experiments/contrastive/logs/contrastive_loss_effnet_v2_m_batch1_emb_size_8/train/plugins/profile/2021_12_02_04_07_47\n",
      "2021-12-02 04:07:47.992673: I tensorflow/core/profiler/rpc/client/save_profile.cc:143] Dumped gzipped tool data for memory_profile.json.gz to experiments/contrastive/logs/contrastive_loss_effnet_v2_m_batch1_emb_size_8/train/plugins/profile/2021_12_02_04_07_47/ConstantinesAir.memory_profile.json.gz\n",
      "2021-12-02 04:07:47.993549: I tensorflow/core/profiler/rpc/client/capture_profile.cc:251] Creating directory: experiments/contrastive/logs/contrastive_loss_effnet_v2_m_batch1_emb_size_8/train/plugins/profile/2021_12_02_04_07_47Dumped tool data for xplane.pb to experiments/contrastive/logs/contrastive_loss_effnet_v2_m_batch1_emb_size_8/train/plugins/profile/2021_12_02_04_07_47/ConstantinesAir.xplane.pb\n",
      "Dumped tool data for overview_page.pb to experiments/contrastive/logs/contrastive_loss_effnet_v2_m_batch1_emb_size_8/train/plugins/profile/2021_12_02_04_07_47/ConstantinesAir.overview_page.pb\n",
      "Dumped tool data for input_pipeline.pb to experiments/contrastive/logs/contrastive_loss_effnet_v2_m_batch1_emb_size_8/train/plugins/profile/2021_12_02_04_07_47/ConstantinesAir.input_pipeline.pb\n",
      "Dumped tool data for tensorflow_stats.pb to experiments/contrastive/logs/contrastive_loss_effnet_v2_m_batch1_emb_size_8/train/plugins/profile/2021_12_02_04_07_47/ConstantinesAir.tensorflow_stats.pb\n",
      "Dumped tool data for kernel_stats.pb to experiments/contrastive/logs/contrastive_loss_effnet_v2_m_batch1_emb_size_8/train/plugins/profile/2021_12_02_04_07_47/ConstantinesAir.kernel_stats.pb\n",
      "\n"
     ]
    },
    {
     "name": "stdout",
     "output_type": "stream",
     "text": [
      " 41/606 [=>............................] - ETA: 39:19 - loss: 8.7001"
     ]
    },
    {
     "ename": "KeyboardInterrupt",
     "evalue": "",
     "output_type": "error",
     "traceback": [
      "\u001b[0;31m---------------------------------------------------------------------------\u001b[0m",
      "\u001b[0;31mKeyboardInterrupt\u001b[0m                         Traceback (most recent call last)",
      "\u001b[0;32m/var/folders/l9/lj19422x7gvb6lnl_sl7gxrh0000gn/T/ipykernel_68591/3750631368.py\u001b[0m in \u001b[0;36m<module>\u001b[0;34m\u001b[0m\n\u001b[0;32m----> 1\u001b[0;31m \u001b[0mhistory\u001b[0m \u001b[0;34m=\u001b[0m \u001b[0mtrain_model\u001b[0m\u001b[0;34m(\u001b[0m\u001b[0mconfig\u001b[0m\u001b[0;34m)\u001b[0m\u001b[0;34m\u001b[0m\u001b[0;34m\u001b[0m\u001b[0m\n\u001b[0m",
      "\u001b[0;32m~/sartorius-competition/src/train_model.py\u001b[0m in \u001b[0;36mtrain_model\u001b[0;34m(cfg)\u001b[0m\n\u001b[1;32m     56\u001b[0m     \u001b[0mckpt_callback\u001b[0m \u001b[0;34m=\u001b[0m \u001b[0mModelCheckpoint\u001b[0m\u001b[0;34m(\u001b[0m\u001b[0;34m**\u001b[0m\u001b[0mckpt_params\u001b[0m\u001b[0;34m)\u001b[0m\u001b[0;34m\u001b[0m\u001b[0;34m\u001b[0m\u001b[0m\n\u001b[1;32m     57\u001b[0m \u001b[0;34m\u001b[0m\u001b[0m\n\u001b[0;32m---> 58\u001b[0;31m     training_history = model.fit(\n\u001b[0m\u001b[1;32m     59\u001b[0m         \u001b[0mdataset_train\u001b[0m\u001b[0;34m,\u001b[0m\u001b[0;34m\u001b[0m\u001b[0;34m\u001b[0m\u001b[0m\n\u001b[1;32m     60\u001b[0m         \u001b[0mvalidation_data\u001b[0m\u001b[0;34m=\u001b[0m\u001b[0mdataset_val\u001b[0m\u001b[0;34m,\u001b[0m\u001b[0;34m\u001b[0m\u001b[0;34m\u001b[0m\u001b[0m\n",
      "\u001b[0;32m~/miniforge3/envs/tf2.5/lib/python3.9/site-packages/tensorflow/python/keras/engine/training.py\u001b[0m in \u001b[0;36mfit\u001b[0;34m(self, x, y, batch_size, epochs, verbose, callbacks, validation_split, validation_data, shuffle, class_weight, sample_weight, initial_epoch, steps_per_epoch, validation_steps, validation_batch_size, validation_freq, max_queue_size, workers, use_multiprocessing)\u001b[0m\n\u001b[1;32m   1181\u001b[0m                 _r=1):\n\u001b[1;32m   1182\u001b[0m               \u001b[0mcallbacks\u001b[0m\u001b[0;34m.\u001b[0m\u001b[0mon_train_batch_begin\u001b[0m\u001b[0;34m(\u001b[0m\u001b[0mstep\u001b[0m\u001b[0;34m)\u001b[0m\u001b[0;34m\u001b[0m\u001b[0;34m\u001b[0m\u001b[0m\n\u001b[0;32m-> 1183\u001b[0;31m               \u001b[0mtmp_logs\u001b[0m \u001b[0;34m=\u001b[0m \u001b[0mself\u001b[0m\u001b[0;34m.\u001b[0m\u001b[0mtrain_function\u001b[0m\u001b[0;34m(\u001b[0m\u001b[0miterator\u001b[0m\u001b[0;34m)\u001b[0m\u001b[0;34m\u001b[0m\u001b[0;34m\u001b[0m\u001b[0m\n\u001b[0m\u001b[1;32m   1184\u001b[0m               \u001b[0;32mif\u001b[0m \u001b[0mdata_handler\u001b[0m\u001b[0;34m.\u001b[0m\u001b[0mshould_sync\u001b[0m\u001b[0;34m:\u001b[0m\u001b[0;34m\u001b[0m\u001b[0;34m\u001b[0m\u001b[0m\n\u001b[1;32m   1185\u001b[0m                 \u001b[0mcontext\u001b[0m\u001b[0;34m.\u001b[0m\u001b[0masync_wait\u001b[0m\u001b[0;34m(\u001b[0m\u001b[0;34m)\u001b[0m\u001b[0;34m\u001b[0m\u001b[0;34m\u001b[0m\u001b[0m\n",
      "\u001b[0;32m~/miniforge3/envs/tf2.5/lib/python3.9/site-packages/tensorflow/python/eager/def_function.py\u001b[0m in \u001b[0;36m__call__\u001b[0;34m(self, *args, **kwds)\u001b[0m\n\u001b[1;32m    887\u001b[0m \u001b[0;34m\u001b[0m\u001b[0m\n\u001b[1;32m    888\u001b[0m       \u001b[0;32mwith\u001b[0m \u001b[0mOptionalXlaContext\u001b[0m\u001b[0;34m(\u001b[0m\u001b[0mself\u001b[0m\u001b[0;34m.\u001b[0m\u001b[0m_jit_compile\u001b[0m\u001b[0;34m)\u001b[0m\u001b[0;34m:\u001b[0m\u001b[0;34m\u001b[0m\u001b[0;34m\u001b[0m\u001b[0m\n\u001b[0;32m--> 889\u001b[0;31m         \u001b[0mresult\u001b[0m \u001b[0;34m=\u001b[0m \u001b[0mself\u001b[0m\u001b[0;34m.\u001b[0m\u001b[0m_call\u001b[0m\u001b[0;34m(\u001b[0m\u001b[0;34m*\u001b[0m\u001b[0margs\u001b[0m\u001b[0;34m,\u001b[0m \u001b[0;34m**\u001b[0m\u001b[0mkwds\u001b[0m\u001b[0;34m)\u001b[0m\u001b[0;34m\u001b[0m\u001b[0;34m\u001b[0m\u001b[0m\n\u001b[0m\u001b[1;32m    890\u001b[0m \u001b[0;34m\u001b[0m\u001b[0m\n\u001b[1;32m    891\u001b[0m       \u001b[0mnew_tracing_count\u001b[0m \u001b[0;34m=\u001b[0m \u001b[0mself\u001b[0m\u001b[0;34m.\u001b[0m\u001b[0mexperimental_get_tracing_count\u001b[0m\u001b[0;34m(\u001b[0m\u001b[0;34m)\u001b[0m\u001b[0;34m\u001b[0m\u001b[0;34m\u001b[0m\u001b[0m\n",
      "\u001b[0;32m~/miniforge3/envs/tf2.5/lib/python3.9/site-packages/tensorflow/python/eager/def_function.py\u001b[0m in \u001b[0;36m_call\u001b[0;34m(self, *args, **kwds)\u001b[0m\n\u001b[1;32m    915\u001b[0m       \u001b[0;31m# In this case we have created variables on the first call, so we run the\u001b[0m\u001b[0;34m\u001b[0m\u001b[0;34m\u001b[0m\u001b[0m\n\u001b[1;32m    916\u001b[0m       \u001b[0;31m# defunned version which is guaranteed to never create variables.\u001b[0m\u001b[0;34m\u001b[0m\u001b[0;34m\u001b[0m\u001b[0m\n\u001b[0;32m--> 917\u001b[0;31m       \u001b[0;32mreturn\u001b[0m \u001b[0mself\u001b[0m\u001b[0;34m.\u001b[0m\u001b[0m_stateless_fn\u001b[0m\u001b[0;34m(\u001b[0m\u001b[0;34m*\u001b[0m\u001b[0margs\u001b[0m\u001b[0;34m,\u001b[0m \u001b[0;34m**\u001b[0m\u001b[0mkwds\u001b[0m\u001b[0;34m)\u001b[0m  \u001b[0;31m# pylint: disable=not-callable\u001b[0m\u001b[0;34m\u001b[0m\u001b[0;34m\u001b[0m\u001b[0m\n\u001b[0m\u001b[1;32m    918\u001b[0m     \u001b[0;32melif\u001b[0m \u001b[0mself\u001b[0m\u001b[0;34m.\u001b[0m\u001b[0m_stateful_fn\u001b[0m \u001b[0;32mis\u001b[0m \u001b[0;32mnot\u001b[0m \u001b[0;32mNone\u001b[0m\u001b[0;34m:\u001b[0m\u001b[0;34m\u001b[0m\u001b[0;34m\u001b[0m\u001b[0m\n\u001b[1;32m    919\u001b[0m       \u001b[0;31m# Release the lock early so that multiple threads can perform the call\u001b[0m\u001b[0;34m\u001b[0m\u001b[0;34m\u001b[0m\u001b[0m\n",
      "\u001b[0;32m~/miniforge3/envs/tf2.5/lib/python3.9/site-packages/tensorflow/python/eager/function.py\u001b[0m in \u001b[0;36m__call__\u001b[0;34m(self, *args, **kwargs)\u001b[0m\n\u001b[1;32m   3021\u001b[0m       (graph_function,\n\u001b[1;32m   3022\u001b[0m        filtered_flat_args) = self._maybe_define_function(args, kwargs)\n\u001b[0;32m-> 3023\u001b[0;31m     return graph_function._call_flat(\n\u001b[0m\u001b[1;32m   3024\u001b[0m         filtered_flat_args, captured_inputs=graph_function.captured_inputs)  # pylint: disable=protected-access\n\u001b[1;32m   3025\u001b[0m \u001b[0;34m\u001b[0m\u001b[0m\n",
      "\u001b[0;32m~/miniforge3/envs/tf2.5/lib/python3.9/site-packages/tensorflow/python/eager/function.py\u001b[0m in \u001b[0;36m_call_flat\u001b[0;34m(self, args, captured_inputs, cancellation_manager)\u001b[0m\n\u001b[1;32m   1958\u001b[0m         and executing_eagerly):\n\u001b[1;32m   1959\u001b[0m       \u001b[0;31m# No tape is watching; skip to running the function.\u001b[0m\u001b[0;34m\u001b[0m\u001b[0;34m\u001b[0m\u001b[0m\n\u001b[0;32m-> 1960\u001b[0;31m       return self._build_call_outputs(self._inference_function.call(\n\u001b[0m\u001b[1;32m   1961\u001b[0m           ctx, args, cancellation_manager=cancellation_manager))\n\u001b[1;32m   1962\u001b[0m     forward_backward = self._select_forward_and_backward_functions(\n",
      "\u001b[0;32m~/miniforge3/envs/tf2.5/lib/python3.9/site-packages/tensorflow/python/eager/function.py\u001b[0m in \u001b[0;36mcall\u001b[0;34m(self, ctx, args, cancellation_manager)\u001b[0m\n\u001b[1;32m    589\u001b[0m       \u001b[0;32mwith\u001b[0m \u001b[0m_InterpolateFunctionError\u001b[0m\u001b[0;34m(\u001b[0m\u001b[0mself\u001b[0m\u001b[0;34m)\u001b[0m\u001b[0;34m:\u001b[0m\u001b[0;34m\u001b[0m\u001b[0;34m\u001b[0m\u001b[0m\n\u001b[1;32m    590\u001b[0m         \u001b[0;32mif\u001b[0m \u001b[0mcancellation_manager\u001b[0m \u001b[0;32mis\u001b[0m \u001b[0;32mNone\u001b[0m\u001b[0;34m:\u001b[0m\u001b[0;34m\u001b[0m\u001b[0;34m\u001b[0m\u001b[0m\n\u001b[0;32m--> 591\u001b[0;31m           outputs = execute.execute(\n\u001b[0m\u001b[1;32m    592\u001b[0m               \u001b[0mstr\u001b[0m\u001b[0;34m(\u001b[0m\u001b[0mself\u001b[0m\u001b[0;34m.\u001b[0m\u001b[0msignature\u001b[0m\u001b[0;34m.\u001b[0m\u001b[0mname\u001b[0m\u001b[0;34m)\u001b[0m\u001b[0;34m,\u001b[0m\u001b[0;34m\u001b[0m\u001b[0;34m\u001b[0m\u001b[0m\n\u001b[1;32m    593\u001b[0m               \u001b[0mnum_outputs\u001b[0m\u001b[0;34m=\u001b[0m\u001b[0mself\u001b[0m\u001b[0;34m.\u001b[0m\u001b[0m_num_outputs\u001b[0m\u001b[0;34m,\u001b[0m\u001b[0;34m\u001b[0m\u001b[0;34m\u001b[0m\u001b[0m\n",
      "\u001b[0;32m~/miniforge3/envs/tf2.5/lib/python3.9/site-packages/tensorflow/python/eager/execute.py\u001b[0m in \u001b[0;36mquick_execute\u001b[0;34m(op_name, num_outputs, inputs, attrs, ctx, name)\u001b[0m\n\u001b[1;32m     57\u001b[0m   \u001b[0;32mtry\u001b[0m\u001b[0;34m:\u001b[0m\u001b[0;34m\u001b[0m\u001b[0;34m\u001b[0m\u001b[0m\n\u001b[1;32m     58\u001b[0m     \u001b[0mctx\u001b[0m\u001b[0;34m.\u001b[0m\u001b[0mensure_initialized\u001b[0m\u001b[0;34m(\u001b[0m\u001b[0;34m)\u001b[0m\u001b[0;34m\u001b[0m\u001b[0;34m\u001b[0m\u001b[0m\n\u001b[0;32m---> 59\u001b[0;31m     tensors = pywrap_tfe.TFE_Py_Execute(ctx._handle, device_name, op_name,\n\u001b[0m\u001b[1;32m     60\u001b[0m                                         inputs, attrs, num_outputs)\n\u001b[1;32m     61\u001b[0m   \u001b[0;32mexcept\u001b[0m \u001b[0mcore\u001b[0m\u001b[0;34m.\u001b[0m\u001b[0m_NotOkStatusException\u001b[0m \u001b[0;32mas\u001b[0m \u001b[0me\u001b[0m\u001b[0;34m:\u001b[0m\u001b[0;34m\u001b[0m\u001b[0;34m\u001b[0m\u001b[0m\n",
      "\u001b[0;31mKeyboardInterrupt\u001b[0m: "
     ]
    }
   ],
   "source": [
    "history = train_model(config)"
   ]
  },
  {
   "cell_type": "code",
   "execution_count": null,
   "metadata": {},
   "outputs": [],
   "source": []
  }
 ],
 "metadata": {
  "interpreter": {
   "hash": "f6922112a9ae36c99018ec8e10ad58669f67660f44a16a81631cf9f687910038"
  },
  "kernelspec": {
   "display_name": "Python 3.9.7 64-bit ('tf2.5': conda)",
   "language": "python",
   "name": "python3"
  },
  "language_info": {
   "codemirror_mode": {
    "name": "ipython",
    "version": 3
   },
   "file_extension": ".py",
   "mimetype": "text/x-python",
   "name": "python",
   "nbconvert_exporter": "python",
   "pygments_lexer": "ipython3",
   "version": "3.9.7"
  },
  "orig_nbformat": 4
 },
 "nbformat": 4,
 "nbformat_minor": 2
}
